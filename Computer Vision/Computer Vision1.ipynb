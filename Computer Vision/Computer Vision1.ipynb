{
 "cells": [
  {
   "cell_type": "markdown",
   "metadata": {},
   "source": [
    "# Transfer Learning"
   ]
  },
  {
   "cell_type": "markdown",
   "metadata": {},
   "source": [
    "\n",
    "https://github.com/tensorflow/docs/blob/master/site/en/tutorials/images/transfer_learning.ipynb"
   ]
  },
  {
   "cell_type": "markdown",
   "metadata": {},
   "source": [
    "* 강아지와 고양이 사진 분류하기"
   ]
  },
  {
   "cell_type": "markdown",
   "metadata": {},
   "source": [
    "<img src=\"image/dogcat.png\" with=\"500\">"
   ]
  },
  {
   "cell_type": "code",
   "execution_count": 1,
   "metadata": {},
   "outputs": [],
   "source": [
    "from tensorflow.compat.v1 import ConfigProto, Session\n",
    "from tensorflow.compat.v1.keras.backend import set_session\n",
    "\n",
    "config = ConfigProto()\n",
    "config.gpu_options.allow_growth =True\n",
    "session = Session(config=config)\n",
    "set_session(session)"
   ]
  },
  {
   "cell_type": "code",
   "execution_count": 2,
   "metadata": {
    "ExecuteTime": {
     "end_time": "2020-08-03T02:31:45.666314Z",
     "start_time": "2020-08-03T02:31:42.581238Z"
    },
    "scrolled": true
   },
   "outputs": [
    {
     "name": "stdout",
     "output_type": "stream",
     "text": [
      "TensorFlow version is  2.2.0\n"
     ]
    }
   ],
   "source": [
    "# __future__ :파이썬 2 버전과 파이썬 3 버전의 호환을 위하여 사용되는 모듈\n",
    "#from __future__ import absolute_import, division, print_function \n",
    "\n",
    "# OS: 운영체제와 관련된 명령을 수행할 수 있다.\n",
    "import os\n",
    "\n",
    "import tensorflow as tf\n",
    "from tensorflow import keras\n",
    "print(\"TensorFlow version is \", tf.__version__)\n",
    "\n",
    "import numpy as np\n",
    "\n",
    "# pyplot: 그래프를 그리기위해 지원되는 모듈 \n",
    "import matplotlib.pyplot as plt\n",
    "\n",
    "# image: matplotlib에서 이미지를 활용하고자 할 때 사용하는 모듈\n",
    "import matplotlib.image as mpimg\n"
   ]
  },
  {
   "cell_type": "markdown",
   "metadata": {},
   "source": [
    "## Data preprocessing"
   ]
  },
  {
   "cell_type": "markdown",
   "metadata": {},
   "source": [
    "* 대부분 자신의 컴퓨터 C:/User/계정/.keras/datasets 경로에 파일이 다운됩니다.\n",
    "\n",
    "* 모델에 데이터를 넣어줄 때 경로를 사용합니다. 따라서 아래에서 각 class별 train,test 셋의 경로를 변수로 저장합니다. \n",
    "\n",
    "<img src=\"image/path.jpg\">"
   ]
  },
  {
   "cell_type": "code",
   "execution_count": 3,
   "metadata": {
    "ExecuteTime": {
     "end_time": "2020-07-30T07:32:32.355005Z",
     "start_time": "2020-07-30T07:32:29.901494Z"
    }
   },
   "outputs": [
    {
     "name": "stdout",
     "output_type": "stream",
     "text": [
      "/home/piai/.keras/datasets/cats_and_dogs_filtered.zip\n"
     ]
    }
   ],
   "source": [
    "# 데이터 가져오기, extract = True 일 시 압축 파일을 풀라는 명령 \n",
    "zip_file = tf.keras.utils.get_file(origin=\"https://storage.googleapis.com/mledu-datasets/cats_and_dogs_filtered.zip\", \n",
    "                                   fname=\"cats_and_dogs_filtered.zip\", extract=True)\n",
    "\n",
    "#zip_file=\"./경로/cats_and_dogs_filtered.zip\"                                \n",
    "print(zip_file)\n",
    "# 확장자를 기준으로 파일 이름 나누기 \n",
    "base_dir, _ = os.path.splitext(zip_file)"
   ]
  },
  {
   "cell_type": "markdown",
   "metadata": {},
   "source": [
    "* **base_dir**는 **train/cats,train/dogs, test/cats,test/dogs** 에 접근하기위한 기본경로입니다. \n",
    "\n",
    "<img src=\"image/path2.png\" width=\"500\">"
   ]
  },
  {
   "cell_type": "code",
   "execution_count": 4,
   "metadata": {
    "ExecuteTime": {
     "end_time": "2020-07-30T07:32:32.401006Z",
     "start_time": "2020-07-30T07:32:32.388005Z"
    }
   },
   "outputs": [
    {
     "data": {
      "text/plain": [
       "'/home/piai/.keras/datasets/cats_and_dogs_filtered'"
      ]
     },
     "execution_count": 4,
     "metadata": {},
     "output_type": "execute_result"
    }
   ],
   "source": [
    "base_dir"
   ]
  },
  {
   "cell_type": "markdown",
   "metadata": {},
   "source": [
    "### Prepare training and validation cats and dogs datasets"
   ]
  },
  {
   "cell_type": "code",
   "execution_count": 5,
   "metadata": {
    "ExecuteTime": {
     "end_time": "2020-07-30T07:32:32.449006Z",
     "start_time": "2020-07-30T07:32:32.434004Z"
    }
   },
   "outputs": [
    {
     "name": "stdout",
     "output_type": "stream",
     "text": [
      "**train_cats_dir** /home/piai/.keras/datasets/cats_and_dogs_filtered/train/cats\n",
      "**train_dogs_dir** /home/piai/.keras/datasets/cats_and_dogs_filtered/train/dogs\n",
      "**validation_cats_dir** /home/piai/.keras/datasets/cats_and_dogs_filtered/validation/cats\n",
      "**validation_dogs_dir** /home/piai/.keras/datasets/cats_and_dogs_filtered/validation/dogs\n",
      "Total training cat images: 1000\n",
      "Total training dog images: 1000\n",
      "Total validation cat images: 500\n",
      "Total validation dog images: 500\n"
     ]
    }
   ],
   "source": [
    "# train폴더와 validation폴더 경로명 생성 및 저장\n",
    "train_dir = os.path.join(base_dir, 'train')\n",
    "validation_dir = os.path.join(base_dir, 'validation')\n",
    "\n",
    "# train cats 이미지가 들어있는 경로명 생성 및 저장\n",
    "train_cats_dir = os.path.join(train_dir, 'cats')\n",
    "print ('**train_cats_dir**', train_cats_dir )\n",
    "\n",
    "\n",
    "# train dog 이미지가 들어있는 경로명 생성 및 저장\n",
    "train_dogs_dir = os.path.join(train_dir, 'dogs')\n",
    "print ('**train_dogs_dir**', train_dogs_dir )\n",
    "\n",
    "\n",
    "# validaton cats 이미지가 들어있는 경로명 생성 및 저장\n",
    "validation_cats_dir = os.path.join(validation_dir, 'cats')\n",
    "print ('**validation_cats_dir**', validation_cats_dir )\n",
    "\n",
    "\n",
    "# validaton dog 이미지가 들어있는 경로명 생성 및 저장\n",
    "validation_dogs_dir = os.path.join(validation_dir, 'dogs')\n",
    "print ('**validation_dogs_dir**', validation_dogs_dir )\n",
    "\n",
    "\n",
    "print ('Total training cat images:', len(os.listdir(train_cats_dir)))\n",
    "print ('Total training dog images:', len(os.listdir(train_dogs_dir)))\n",
    "print ('Total validation cat images:', len(os.listdir(validation_cats_dir)))\n",
    "print ('Total validation dog images:', len(os.listdir(validation_dogs_dir)))"
   ]
  },
  {
   "cell_type": "markdown",
   "metadata": {},
   "source": [
    "### Create Image Data Generator with Image Augmentation"
   ]
  },
  {
   "cell_type": "markdown",
   "metadata": {},
   "source": [
    "- ImageDataGenerator() 참고: https://keraskorea.github.io/posts/2018-10-24-little_data_powerful_model/"
   ]
  },
  {
   "cell_type": "code",
   "execution_count": 6,
   "metadata": {
    "ExecuteTime": {
     "end_time": "2020-07-30T07:32:32.495004Z",
     "start_time": "2020-07-30T07:32:32.482004Z"
    }
   },
   "outputs": [],
   "source": [
    "image_size = 224 # All images will be resized to 224 x 224\n",
    "batch_size = 32\n",
    "\n",
    "# Rescale\n",
    "train_datagen = keras.preprocessing.image.ImageDataGenerator(zoom_range=0.2,\\\n",
    "                                                             horizontal_flip=True,\\\n",
    "                                                             rescale=1./255)\n",
    "\n",
    "# 검증 데이터셋은 원본을 사용해야하기 때문에 1/255 스케일링만 시켜줍니다.\n",
    "validation_datagen = keras.preprocessing.image.ImageDataGenerator(rescale=1./255)"
   ]
  },
  {
   "cell_type": "markdown",
   "metadata": {},
   "source": [
    "<img src=\"image/gen.jpg\" width=\"600\">"
   ]
  },
  {
   "cell_type": "code",
   "execution_count": 7,
   "metadata": {
    "ExecuteTime": {
     "end_time": "2020-07-30T07:32:32.776003Z",
     "start_time": "2020-07-30T07:32:32.527007Z"
    }
   },
   "outputs": [
    {
     "name": "stdout",
     "output_type": "stream",
     "text": [
      "Found 2000 images belonging to 2 classes.\n",
      "Found 1000 images belonging to 2 classes.\n",
      "{'cats': 0, 'dogs': 1}\n",
      "{'cats': 0, 'dogs': 1}\n"
     ]
    }
   ],
   "source": [
    "# 디렉토리에서 바로 레이블과 이미지 가져오기 \n",
    "train_generator = train_datagen.flow_from_directory(\n",
    "                train_dir,  # Source directory for the training images\n",
    "                target_size=(image_size, image_size),  \n",
    "                batch_size=batch_size,\n",
    "                # Since we use binary_crossentropy loss, we need binary labels\n",
    "                class_mode='binary')\n",
    "\n",
    "validation_generator = validation_datagen.flow_from_directory(\n",
    "                validation_dir, # Source directory for the validation images\n",
    "                target_size=(image_size, image_size),\n",
    "                batch_size=batch_size,\n",
    "                class_mode='binary')\n",
    "\n",
    "# 클래스 인덱스 정보 보기 \n",
    "print(train_generator.class_indices)\n",
    "print(validation_generator.class_indices)"
   ]
  },
  {
   "cell_type": "markdown",
   "metadata": {},
   "source": [
    "- class_mode : 분류 방식에 대해서 지정합니다. 다중 클래스일 경우 \"categorical\"로 지정해주세요\n",
    "  "
   ]
  },
  {
   "cell_type": "markdown",
   "metadata": {},
   "source": [
    "## Create the base model from the pre-trained convnets"
   ]
  },
  {
   "cell_type": "markdown",
   "metadata": {},
   "source": [
    "- tensorflow.keras.applications 모듈을 사용하여 pretrained된 모델을 사용할 수 있다.\n",
    "- Xception, VGG16, VGG19, ResNet, InseptionV3, InseptionResNetV2, MobileNet, DenseNet, NASNet 사용가능 "
   ]
  },
  {
   "cell_type": "markdown",
   "metadata": {},
   "source": [
    "- 참고사이트: https://keras.io/applications/"
   ]
  },
  {
   "cell_type": "code",
   "execution_count": 8,
   "metadata": {
    "ExecuteTime": {
     "end_time": "2020-07-30T07:32:34.939717Z",
     "start_time": "2020-07-30T07:32:32.808007Z"
    }
   },
   "outputs": [],
   "source": [
    "IMG_SHAPE = (image_size, image_size, 3)\n",
    "\n",
    "#Create the base model from the pre-trained model VGG16\n",
    "base_model = tf.keras.applications.VGG16(input_shape=IMG_SHAPE,\n",
    "                                               include_top=False, \n",
    "                                               weights='imagenet')"
   ]
  },
  {
   "cell_type": "markdown",
   "metadata": {},
   "source": [
    "## Freeze the convolutional base  "
   ]
  },
  {
   "cell_type": "markdown",
   "metadata": {},
   "source": [
    "<img src=\"image/VGG3.png\" width=\"500\">"
   ]
  },
  {
   "cell_type": "code",
   "execution_count": 9,
   "metadata": {
    "ExecuteTime": {
     "end_time": "2020-07-30T07:32:34.987714Z",
     "start_time": "2020-07-30T07:32:34.973719Z"
    }
   },
   "outputs": [],
   "source": [
    "#분류기를 제외하고 가져온 모델부분을  Freeze 시켜 학습시에도 가중치가 변하지 않도록 함\n",
    "base_model.trainable = False"
   ]
  },
  {
   "cell_type": "code",
   "execution_count": 10,
   "metadata": {
    "ExecuteTime": {
     "end_time": "2020-07-30T07:32:35.003717Z",
     "start_time": "2020-07-30T07:32:34.991716Z"
    }
   },
   "outputs": [
    {
     "name": "stdout",
     "output_type": "stream",
     "text": [
      "Model: \"vgg16\"\n",
      "_________________________________________________________________\n",
      "Layer (type)                 Output Shape              Param #   \n",
      "=================================================================\n",
      "input_1 (InputLayer)         [(None, 224, 224, 3)]     0         \n",
      "_________________________________________________________________\n",
      "block1_conv1 (Conv2D)        (None, 224, 224, 64)      1792      \n",
      "_________________________________________________________________\n",
      "block1_conv2 (Conv2D)        (None, 224, 224, 64)      36928     \n",
      "_________________________________________________________________\n",
      "block1_pool (MaxPooling2D)   (None, 112, 112, 64)      0         \n",
      "_________________________________________________________________\n",
      "block2_conv1 (Conv2D)        (None, 112, 112, 128)     73856     \n",
      "_________________________________________________________________\n",
      "block2_conv2 (Conv2D)        (None, 112, 112, 128)     147584    \n",
      "_________________________________________________________________\n",
      "block2_pool (MaxPooling2D)   (None, 56, 56, 128)       0         \n",
      "_________________________________________________________________\n",
      "block3_conv1 (Conv2D)        (None, 56, 56, 256)       295168    \n",
      "_________________________________________________________________\n",
      "block3_conv2 (Conv2D)        (None, 56, 56, 256)       590080    \n",
      "_________________________________________________________________\n",
      "block3_conv3 (Conv2D)        (None, 56, 56, 256)       590080    \n",
      "_________________________________________________________________\n",
      "block3_pool (MaxPooling2D)   (None, 28, 28, 256)       0         \n",
      "_________________________________________________________________\n",
      "block4_conv1 (Conv2D)        (None, 28, 28, 512)       1180160   \n",
      "_________________________________________________________________\n",
      "block4_conv2 (Conv2D)        (None, 28, 28, 512)       2359808   \n",
      "_________________________________________________________________\n",
      "block4_conv3 (Conv2D)        (None, 28, 28, 512)       2359808   \n",
      "_________________________________________________________________\n",
      "block4_pool (MaxPooling2D)   (None, 14, 14, 512)       0         \n",
      "_________________________________________________________________\n",
      "block5_conv1 (Conv2D)        (None, 14, 14, 512)       2359808   \n",
      "_________________________________________________________________\n",
      "block5_conv2 (Conv2D)        (None, 14, 14, 512)       2359808   \n",
      "_________________________________________________________________\n",
      "block5_conv3 (Conv2D)        (None, 14, 14, 512)       2359808   \n",
      "_________________________________________________________________\n",
      "block5_pool (MaxPooling2D)   (None, 7, 7, 512)         0         \n",
      "=================================================================\n",
      "Total params: 14,714,688\n",
      "Trainable params: 0\n",
      "Non-trainable params: 14,714,688\n",
      "_________________________________________________________________\n"
     ]
    }
   ],
   "source": [
    "# Let's take a look at the base model architecture\n",
    "base_model.summary()"
   ]
  },
  {
   "cell_type": "markdown",
   "metadata": {},
   "source": [
    "## Add a classification head"
   ]
  },
  {
   "cell_type": "code",
   "execution_count": 11,
   "metadata": {
    "ExecuteTime": {
     "end_time": "2020-07-30T07:32:35.161715Z",
     "start_time": "2020-07-30T07:32:35.069719Z"
    }
   },
   "outputs": [],
   "source": [
    "model = tf.keras.Sequential([\n",
    "  base_model,\n",
    "  keras.layers.GlobalAveragePooling2D(),\n",
    "  keras.layers.Dense(1, activation='sigmoid')\n",
    "])"
   ]
  },
  {
   "cell_type": "markdown",
   "metadata": {},
   "source": [
    "- 다중 분류의 경우 activation = \"softmax\""
   ]
  },
  {
   "cell_type": "markdown",
   "metadata": {},
   "source": [
    "<img src=\"image/gapooling.png\" width=\"500\">"
   ]
  },
  {
   "cell_type": "markdown",
   "metadata": {},
   "source": [
    "## Compile the model"
   ]
  },
  {
   "cell_type": "code",
   "execution_count": 12,
   "metadata": {
    "ExecuteTime": {
     "end_time": "2020-07-30T07:32:35.238718Z",
     "start_time": "2020-07-30T07:32:35.194719Z"
    }
   },
   "outputs": [],
   "source": [
    "model.compile(optimizer=tf.keras.optimizers.RMSprop(lr=0.0001), \n",
    "              loss='binary_crossentropy', \n",
    "              metrics=['accuracy'])"
   ]
  },
  {
   "cell_type": "markdown",
   "metadata": {},
   "source": [
    "- loss의 경우 다중 클래스 분류일 때 \"categorical_crossentropy\"를 설정해주면 된다."
   ]
  },
  {
   "cell_type": "code",
   "execution_count": 13,
   "metadata": {
    "ExecuteTime": {
     "end_time": "2020-07-30T07:32:35.285718Z",
     "start_time": "2020-07-30T07:32:35.271720Z"
    }
   },
   "outputs": [
    {
     "name": "stdout",
     "output_type": "stream",
     "text": [
      "Model: \"sequential\"\n",
      "_________________________________________________________________\n",
      "Layer (type)                 Output Shape              Param #   \n",
      "=================================================================\n",
      "vgg16 (Model)                (None, 7, 7, 512)         14714688  \n",
      "_________________________________________________________________\n",
      "global_average_pooling2d (Gl (None, 512)               0         \n",
      "_________________________________________________________________\n",
      "dense (Dense)                (None, 1)                 513       \n",
      "=================================================================\n",
      "Total params: 14,715,201\n",
      "Trainable params: 513\n",
      "Non-trainable params: 14,714,688\n",
      "_________________________________________________________________\n"
     ]
    }
   ],
   "source": [
    "model.summary()"
   ]
  },
  {
   "cell_type": "markdown",
   "metadata": {},
   "source": [
    "## Train"
   ]
  },
  {
   "cell_type": "markdown",
   "metadata": {},
   "source": [
    "- \"could not import PIL.Image\" 오류발생시\n",
    "- 참고: https://stackoverflow.com/questions/48225729/importerrorcould-not-import-pil-image-working-with-keras-ternsorflow/50775336\n",
    "\n",
    "- pip install Pillow 를 통해 해당 가상환경에 Pillow를 설치해주면 됩니다."
   ]
  },
  {
   "cell_type": "markdown",
   "metadata": {},
   "source": [
    "<img src=\"image/batch.png\" width=\"500\">"
   ]
  },
  {
   "cell_type": "markdown",
   "metadata": {},
   "source": [
    "- generator를 사용하여 train data를 무한히 뽑을 수 있으므로 epoch수를 늘릴 수록 많은 데이터를 통해 학습됩니다."
   ]
  },
  {
   "cell_type": "code",
   "execution_count": 14,
   "metadata": {
    "ExecuteTime": {
     "end_time": "2020-07-30T07:36:13.695467Z",
     "start_time": "2020-07-30T07:32:35.319719Z"
    }
   },
   "outputs": [
    {
     "name": "stdout",
     "output_type": "stream",
     "text": [
      "WARNING:tensorflow:From <ipython-input-14-243fe37a8780>:11: Model.fit_generator (from tensorflow.python.keras.engine.training) is deprecated and will be removed in a future version.\n",
      "Instructions for updating:\n",
      "Please use Model.fit, which supports generators.\n",
      "Epoch 1/10\n",
      "62/62 [==============================] - 35s 564ms/step - loss: 0.8822 - accuracy: 0.5005 - val_loss: 0.8155 - val_accuracy: 0.4990\n",
      "Epoch 2/10\n",
      "62/62 [==============================] - 35s 565ms/step - loss: 0.7719 - accuracy: 0.5000 - val_loss: 0.7407 - val_accuracy: 0.4814\n",
      "Epoch 3/10\n",
      "62/62 [==============================] - 37s 602ms/step - loss: 0.7095 - accuracy: 0.5041 - val_loss: 0.6837 - val_accuracy: 0.5589\n",
      "Epoch 4/10\n",
      "62/62 [==============================] - 38s 606ms/step - loss: 0.6847 - accuracy: 0.5508 - val_loss: 0.6761 - val_accuracy: 0.5992\n",
      "Epoch 5/10\n",
      "62/62 [==============================] - 38s 613ms/step - loss: 0.6766 - accuracy: 0.6042 - val_loss: 0.6683 - val_accuracy: 0.6374\n",
      "Epoch 6/10\n",
      "62/62 [==============================] - 39s 626ms/step - loss: 0.6715 - accuracy: 0.6153 - val_loss: 0.6657 - val_accuracy: 0.6446\n",
      "Epoch 7/10\n",
      "62/62 [==============================] - 40s 646ms/step - loss: 0.6653 - accuracy: 0.6418 - val_loss: 0.6596 - val_accuracy: 0.6736\n",
      "Epoch 8/10\n",
      "62/62 [==============================] - 39s 628ms/step - loss: 0.6590 - accuracy: 0.6590 - val_loss: 0.6523 - val_accuracy: 0.6622\n",
      "Epoch 9/10\n",
      "62/62 [==============================] - 39s 623ms/step - loss: 0.6545 - accuracy: 0.6728 - val_loss: 0.6478 - val_accuracy: 0.6942\n",
      "Epoch 10/10\n",
      "62/62 [==============================] - 41s 654ms/step - loss: 0.6477 - accuracy: 0.7063 - val_loss: 0.6433 - val_accuracy: 0.7076\n"
     ]
    }
   ],
   "source": [
    "epochs = 10\n",
    "steps_per_epoch = train_generator.n // batch_size\n",
    "                   #2000             //   #32       =  62\n",
    "validation_steps = validation_generator.n // batch_size\n",
    "                    #1000                     #32      =  31\n",
    "history = model.fit_generator(train_generator, \n",
    "                              steps_per_epoch = steps_per_epoch,\n",
    "                              epochs=epochs, \n",
    "                              workers=4,\n",
    "                              validation_data=validation_generator, \n",
    "                              validation_steps=validation_steps)"
   ]
  },
  {
   "cell_type": "markdown",
   "metadata": {},
   "source": [
    "## Learning curves"
   ]
  },
  {
   "cell_type": "code",
   "execution_count": 15,
   "metadata": {
    "ExecuteTime": {
     "end_time": "2020-07-30T07:36:14.027505Z",
     "start_time": "2020-07-30T07:36:13.727984Z"
    }
   },
   "outputs": [
    {
     "data": {
      "image/png": "[encoded data removed]",
      "text/plain": [
       "<Figure size 576x576 with 2 Axes>"
      ]
     },
     "metadata": {
      "needs_background": "light"
     },
     "output_type": "display_data"
    }
   ],
   "source": [
    "acc = history.history['accuracy']\n",
    "val_acc = history.history['val_accuracy']\n",
    "\n",
    "loss = history.history['loss']\n",
    "val_loss = history.history['val_loss']\n",
    "\n",
    "plt.figure(figsize=(8, 8))\n",
    "\n",
    "plt.subplot(2, 1, 1)\n",
    "plt.plot(acc, label='Training Accuracy')\n",
    "plt.plot(val_acc, label='Validation Accuracy')\n",
    "plt.legend(loc='lower right')\n",
    "plt.ylabel('Accuracy')\n",
    "plt.ylim([min(plt.ylim()),1])\n",
    "plt.title('Training and Validation Accuracy')\n",
    "\n",
    "plt.subplot(2, 1, 2)\n",
    "plt.plot(loss, label='Training Loss')\n",
    "plt.plot(val_loss, label='Validation Loss')\n",
    "plt.legend(loc='upper right')\n",
    "plt.ylabel('Cross Entropy')\n",
    "plt.ylim([0,max(plt.ylim())])\n",
    "plt.title('Training and Validation Loss')\n",
    "plt.show()"
   ]
  },
  {
   "cell_type": "markdown",
   "metadata": {},
   "source": [
    "## Fine tuning"
   ]
  },
  {
   "cell_type": "markdown",
   "metadata": {},
   "source": [
    "<img src=\"image/VGG3.png\" width=\"500\">"
   ]
  },
  {
   "cell_type": "code",
   "execution_count": 16,
   "metadata": {
    "ExecuteTime": {
     "end_time": "2020-07-30T07:36:14.075498Z",
     "start_time": "2020-07-30T07:36:14.063498Z"
    }
   },
   "outputs": [],
   "source": [
    "base_model.trainable = True"
   ]
  },
  {
   "cell_type": "code",
   "execution_count": 17,
   "metadata": {
    "ExecuteTime": {
     "end_time": "2020-07-30T07:36:14.121497Z",
     "start_time": "2020-07-30T07:36:14.107499Z"
    }
   },
   "outputs": [
    {
     "name": "stdout",
     "output_type": "stream",
     "text": [
      "Number of layers in the base model:  19\n"
     ]
    }
   ],
   "source": [
    "# base model의 layer 갯수를 확인\n",
    "print(\"Number of layers in the base model: \", len(base_model.layers))"
   ]
  },
  {
   "cell_type": "code",
   "execution_count": 18,
   "metadata": {
    "ExecuteTime": {
     "end_time": "2020-07-30T07:36:14.169497Z",
     "start_time": "2020-07-30T07:36:14.155497Z"
    }
   },
   "outputs": [],
   "source": [
    "# Fine tuning을 시킬 기준 layer 선정\n",
    "fine_tune_at = 15\n",
    "\n",
    "# Fine tuning을 시킬 기준 layer 이전의 layer들을 모두 freezing\n",
    "for layer in base_model.layers[:fine_tune_at]:\n",
    "    layer.trainable =  False"
   ]
  },
  {
   "cell_type": "markdown",
   "metadata": {},
   "source": [
    "<img src=\"image/VGG2.png\" width=\"500\">"
   ]
  },
  {
   "cell_type": "code",
   "execution_count": 19,
   "metadata": {
    "ExecuteTime": {
     "end_time": "2020-07-30T07:36:14.215500Z",
     "start_time": "2020-07-30T07:36:14.201500Z"
    }
   },
   "outputs": [
    {
     "data": {
      "text/plain": [
       "6"
      ]
     },
     "execution_count": 19,
     "metadata": {},
     "output_type": "execute_result"
    }
   ],
   "source": [
    "len(base_model.trainable_variables)"
   ]
  },
  {
   "cell_type": "markdown",
   "metadata": {},
   "source": [
    "## Compile the model"
   ]
  },
  {
   "cell_type": "code",
   "execution_count": 20,
   "metadata": {
    "ExecuteTime": {
     "end_time": "2020-07-30T07:36:14.263498Z",
     "start_time": "2020-07-30T07:36:14.251502Z"
    }
   },
   "outputs": [],
   "source": [
    "#lr=0.0001\n",
    "#lr=0.00002"
   ]
  },
  {
   "cell_type": "code",
   "execution_count": 21,
   "metadata": {
    "ExecuteTime": {
     "end_time": "2020-07-30T07:36:14.343499Z",
     "start_time": "2020-07-30T07:36:14.266499Z"
    }
   },
   "outputs": [],
   "source": [
    "model.compile(loss='binary_crossentropy',\n",
    "              optimizer = tf.keras.optimizers.RMSprop(lr=2e-5),\n",
    "              metrics=['accuracy'])"
   ]
  },
  {
   "cell_type": "code",
   "execution_count": 22,
   "metadata": {
    "ExecuteTime": {
     "end_time": "2020-07-30T07:36:14.358497Z",
     "start_time": "2020-07-30T07:36:14.345499Z"
    }
   },
   "outputs": [
    {
     "name": "stdout",
     "output_type": "stream",
     "text": [
      "Model: \"sequential\"\n",
      "_________________________________________________________________\n",
      "Layer (type)                 Output Shape              Param #   \n",
      "=================================================================\n",
      "vgg16 (Model)                (None, 7, 7, 512)         14714688  \n",
      "_________________________________________________________________\n",
      "global_average_pooling2d (Gl (None, 512)               0         \n",
      "_________________________________________________________________\n",
      "dense (Dense)                (None, 1)                 513       \n",
      "=================================================================\n",
      "Total params: 14,715,201\n",
      "Trainable params: 7,079,937\n",
      "Non-trainable params: 7,635,264\n",
      "_________________________________________________________________\n"
     ]
    }
   ],
   "source": [
    "model.summary()"
   ]
  },
  {
   "cell_type": "markdown",
   "metadata": {},
   "source": [
    "## Continue Train the model"
   ]
  },
  {
   "cell_type": "code",
   "execution_count": 23,
   "metadata": {
    "ExecuteTime": {
     "end_time": "2020-07-30T07:40:02.951966Z",
     "start_time": "2020-07-30T07:36:14.453499Z"
    }
   },
   "outputs": [
    {
     "name": "stdout",
     "output_type": "stream",
     "text": [
      "Epoch 1/10\n",
      "62/62 [==============================] - 44s 708ms/step - loss: 0.4742 - accuracy: 0.7912 - val_loss: 0.2933 - val_accuracy: 0.8915\n",
      "Epoch 2/10\n",
      "62/62 [==============================] - 41s 653ms/step - loss: 0.2915 - accuracy: 0.8851 - val_loss: 0.2147 - val_accuracy: 0.9194\n",
      "Epoch 3/10\n",
      "62/62 [==============================] - 42s 670ms/step - loss: 0.2461 - accuracy: 0.8994 - val_loss: 0.2008 - val_accuracy: 0.9132\n",
      "Epoch 4/10\n",
      "62/62 [==============================] - 42s 675ms/step - loss: 0.1968 - accuracy: 0.9309 - val_loss: 0.1684 - val_accuracy: 0.9256\n",
      "Epoch 5/10\n",
      "62/62 [==============================] - 42s 670ms/step - loss: 0.1894 - accuracy: 0.9223 - val_loss: 0.1549 - val_accuracy: 0.9390\n",
      "Epoch 6/10\n",
      "62/62 [==============================] - 42s 677ms/step - loss: 0.1599 - accuracy: 0.9416 - val_loss: 0.1490 - val_accuracy: 0.9339\n",
      "Epoch 7/10\n",
      "62/62 [==============================] - 43s 698ms/step - loss: 0.1441 - accuracy: 0.9446 - val_loss: 0.1370 - val_accuracy: 0.9466\n",
      "Epoch 8/10\n",
      "62/62 [==============================] - 42s 683ms/step - loss: 0.1400 - accuracy: 0.9477 - val_loss: 0.1345 - val_accuracy: 0.9298\n",
      "Epoch 9/10\n",
      "62/62 [==============================] - 43s 693ms/step - loss: 0.1146 - accuracy: 0.9573 - val_loss: 0.1610 - val_accuracy: 0.9380\n",
      "Epoch 10/10\n",
      "62/62 [==============================] - 44s 711ms/step - loss: 0.1166 - accuracy: 0.9593 - val_loss: 0.1234 - val_accuracy: 0.9535\n"
     ]
    }
   ],
   "source": [
    "history_fine = model.fit_generator(train_generator, \n",
    "                                   steps_per_epoch = steps_per_epoch,\n",
    "                                   epochs=epochs, \n",
    "                                   workers=4,\n",
    "                                   validation_data=validation_generator, \n",
    "                                   validation_steps=validation_steps)"
   ]
  },
  {
   "cell_type": "markdown",
   "metadata": {},
   "source": [
    "## Learning curves "
   ]
  },
  {
   "cell_type": "code",
   "execution_count": 24,
   "metadata": {
    "ExecuteTime": {
     "end_time": "2020-07-30T07:40:03.268956Z",
     "start_time": "2020-07-30T07:40:02.984968Z"
    }
   },
   "outputs": [
    {
     "data": {
      "image/png": "[encoded data removed]",
      "text/plain": [
       "<Figure size 576x576 with 2 Axes>"
      ]
     },
     "metadata": {
      "needs_background": "light"
     },
     "output_type": "display_data"
    }
   ],
   "source": [
    "acc += history_fine.history['accuracy']\n",
    "val_acc += history_fine.history['val_accuracy']\n",
    "\n",
    "loss += history_fine.history['loss']\n",
    "val_loss += history_fine.history['val_loss']\n",
    "\n",
    "\n",
    "\n",
    "plt.figure(figsize=(8, 8))\n",
    "plt.subplot(2, 1, 1)\n",
    "plt.plot(acc, label='Training Accuracy')\n",
    "plt.plot(val_acc, label='Validation Accuracy')\n",
    "plt.legend(loc='lower right')\n",
    "plt.ylabel('Accuracy')\n",
    "plt.ylim([min(plt.ylim()),1])\n",
    "plt.plot([epochs,epochs], plt.ylim(), label='Start Fine Tuning')\n",
    "plt.title('Training and Validation Accuracy')\n",
    "\n",
    "plt.subplot(2, 1, 2)\n",
    "plt.plot(loss, label='Training Loss')\n",
    "plt.plot(val_loss, label='Validation Loss')\n",
    "plt.legend(loc='upper right')\n",
    "plt.ylabel('Cross Entropy')\n",
    "plt.ylim([0,max(plt.ylim())])\n",
    "plt.plot([epochs,epochs], plt.ylim(), label='Start Fine Tuning')\n",
    "plt.title('Training and Validation Loss')\n",
    "plt.show()"
   ]
  },
  {
   "cell_type": "markdown",
   "metadata": {},
   "source": [
    "# 본인만의 Transfer learning 모델을 만들어보세요"
   ]
  },
  {
   "cell_type": "markdown",
   "metadata": {},
   "source": [
    "<span style=\"color:red\">본인만의 창의적인 생각으로 수정한 내용을 적어주세요</span>"
   ]
  },
  {
   "cell_type": "code",
   "execution_count": 88,
   "metadata": {
    "ExecuteTime": {
     "end_time": "2020-07-30T07:40:03.600950Z",
     "start_time": "2020-07-30T07:40:03.300958Z"
    }
   },
   "outputs": [],
   "source": [
    "my_base_model = tf.keras.applications.Xception(input_shape=IMG_SHAPE,\n",
    "                                               include_top=False, \n",
    "                                               weights='imagenet')"
   ]
  },
  {
   "cell_type": "code",
   "execution_count": 89,
   "metadata": {
    "ExecuteTime": {
     "end_time": "2020-07-30T07:40:03.646950Z",
     "start_time": "2020-07-30T07:40:03.632951Z"
    }
   },
   "outputs": [],
   "source": [
    "my_base_model.trainable = True"
   ]
  },
  {
   "cell_type": "code",
   "execution_count": 90,
   "metadata": {
    "ExecuteTime": {
     "end_time": "2020-07-30T07:40:03.694950Z",
     "start_time": "2020-07-30T07:40:03.680951Z"
    }
   },
   "outputs": [
    {
     "name": "stdout",
     "output_type": "stream",
     "text": [
      "Number of layers in the base model:  132\n"
     ]
    }
   ],
   "source": [
    "# base model의 layer 갯수를 확인\n",
    "print(\"Number of layers in the base model: \", len(my_base_model.layers))"
   ]
  },
  {
   "cell_type": "markdown",
   "metadata": {},
   "source": [
    "- 레이어(fine_tune_at)를 설정해보세요 값 1~19"
   ]
  },
  {
   "cell_type": "markdown",
   "metadata": {},
   "source": [
    "<img src=\"image/VGG3.png\" width=\"500\">"
   ]
  },
  {
   "cell_type": "code",
   "execution_count": 91,
   "metadata": {
    "ExecuteTime": {
     "end_time": "2020-07-30T07:40:03.740950Z",
     "start_time": "2020-07-30T07:40:03.726951Z"
    }
   },
   "outputs": [],
   "source": [
    "# Fine tuning을 시킬 기준 layer 선정\n",
    "fine_tune_at = 6\n",
    "\n",
    "# Fine tuning을 시킬 기준 layer 이전의 layer들을 모두 freezing\n",
    "for layer in my_base_model.layers[:fine_tune_at]:\n",
    "    layer.trainable =  False"
   ]
  },
  {
   "cell_type": "code",
   "execution_count": 92,
   "metadata": {
    "ExecuteTime": {
     "end_time": "2020-07-30T07:40:03.786950Z",
     "start_time": "2020-07-30T07:40:03.773951Z"
    }
   },
   "outputs": [
    {
     "data": {
      "text/plain": [
       "148"
      ]
     },
     "execution_count": 92,
     "metadata": {},
     "output_type": "execute_result"
    }
   ],
   "source": [
    "#학습 변수 개수 확인\n",
    "len(my_base_model.trainable_variables)"
   ]
  },
  {
   "cell_type": "code",
   "execution_count": 93,
   "metadata": {
    "ExecuteTime": {
     "end_time": "2020-07-30T07:40:03.911950Z",
     "start_time": "2020-07-30T07:40:03.820952Z"
    }
   },
   "outputs": [],
   "source": [
    "my_model = tf.keras.Sequential([\n",
    "  my_base_model,\n",
    "  keras.layers.GlobalAveragePooling2D(),\n",
    "  keras.layers.Dense(1, activation='sigmoid')\n",
    "])"
   ]
  },
  {
   "cell_type": "markdown",
   "metadata": {},
   "source": [
    "- 학습률(lr)을 설정해 보세요 값 0.001 보다 작게"
   ]
  },
  {
   "cell_type": "code",
   "execution_count": 94,
   "metadata": {
    "ExecuteTime": {
     "end_time": "2020-07-30T07:40:03.990950Z",
     "start_time": "2020-07-30T07:40:03.944952Z"
    }
   },
   "outputs": [],
   "source": [
    "my_model.compile(loss='binary_crossentropy',\n",
    "              optimizer = tf.keras.optimizers.Adam(lr=4e-5),\n",
    "              metrics=['accuracy'])"
   ]
  },
  {
   "cell_type": "code",
   "execution_count": 95,
   "metadata": {
    "ExecuteTime": {
     "end_time": "2020-07-30T07:40:04.036952Z",
     "start_time": "2020-07-30T07:40:04.022954Z"
    }
   },
   "outputs": [
    {
     "name": "stdout",
     "output_type": "stream",
     "text": [
      "Model: \"sequential_8\"\n",
      "_________________________________________________________________\n",
      "Layer (type)                 Output Shape              Param #   \n",
      "=================================================================\n",
      "xception (Model)             (None, 7, 7, 2048)        20861480  \n",
      "_________________________________________________________________\n",
      "global_average_pooling2d_8 ( (None, 2048)              0         \n",
      "_________________________________________________________________\n",
      "dense_8 (Dense)              (None, 1)                 2049      \n",
      "=================================================================\n",
      "Total params: 20,863,529\n",
      "Trainable params: 20,789,513\n",
      "Non-trainable params: 74,016\n",
      "_________________________________________________________________\n"
     ]
    }
   ],
   "source": [
    "my_model.summary()"
   ]
  },
  {
   "cell_type": "markdown",
   "metadata": {},
   "source": [
    "- epoch를 설정해보세요 값 1~15"
   ]
  },
  {
   "cell_type": "code",
   "execution_count": 96,
   "metadata": {
    "ExecuteTime": {
     "end_time": "2020-07-30T07:47:47.893424Z",
     "start_time": "2020-07-30T07:40:04.069957Z"
    },
    "scrolled": true
   },
   "outputs": [
    {
     "name": "stdout",
     "output_type": "stream",
     "text": [
      "Epoch 1/9\n",
      "62/62 [==============================] - 64s 1s/step - loss: 0.2838 - accuracy: 0.9228 - val_loss: 0.0404 - val_accuracy: 0.9907\n",
      "Epoch 2/9\n",
      "62/62 [==============================] - 60s 974ms/step - loss: 0.0807 - accuracy: 0.9756 - val_loss: 0.0322 - val_accuracy: 0.9897\n",
      "Epoch 3/9\n",
      "62/62 [==============================] - 57s 916ms/step - loss: 0.0394 - accuracy: 0.9914 - val_loss: 0.0317 - val_accuracy: 0.9845\n",
      "Epoch 4/9\n",
      "62/62 [==============================] - 52s 831ms/step - loss: 0.0215 - accuracy: 0.9944 - val_loss: 0.0334 - val_accuracy: 0.9886\n",
      "Epoch 5/9\n",
      "62/62 [==============================] - 54s 873ms/step - loss: 0.0216 - accuracy: 0.9949 - val_loss: 0.0316 - val_accuracy: 0.9886\n",
      "Epoch 6/9\n",
      "62/62 [==============================] - 53s 851ms/step - loss: 0.0108 - accuracy: 0.9980 - val_loss: 0.0317 - val_accuracy: 0.9886\n",
      "Epoch 7/9\n",
      "62/62 [==============================] - 52s 840ms/step - loss: 0.0104 - accuracy: 0.9980 - val_loss: 0.0450 - val_accuracy: 0.9866\n",
      "Epoch 8/9\n",
      "62/62 [==============================] - 53s 850ms/step - loss: 0.0090 - accuracy: 0.9975 - val_loss: 0.0265 - val_accuracy: 0.9917\n",
      "Epoch 9/9\n",
      "62/62 [==============================] - 51s 827ms/step - loss: 0.0078 - accuracy: 0.9990 - val_loss: 0.0415 - val_accuracy: 0.9876\n"
     ]
    }
   ],
   "source": [
    "##설정##\n",
    "epochs = 9\n",
    "########\n",
    "steps_per_epoch = train_generator.n // batch_size\n",
    "                   #2000             //   #32       =  62\n",
    "validation_steps = validation_generator.n // batch_size\n",
    "                    #1000                     #32      = 31\n",
    "my_history = my_model.fit_generator(train_generator, \n",
    "                              steps_per_epoch = steps_per_epoch,\n",
    "                              epochs=epochs, \n",
    "                              workers=4,\n",
    "                              validation_data=validation_generator, \n",
    "                              validation_steps=validation_steps)"
   ]
  },
  {
   "cell_type": "code",
   "execution_count": 97,
   "metadata": {
    "ExecuteTime": {
     "end_time": "2020-07-30T07:55:45.852422Z",
     "start_time": "2020-07-30T07:55:45.607421Z"
    }
   },
   "outputs": [
    {
     "data": {
      "image/png": "[encoded data removed]",
      "text/plain": [
       "<Figure size 576x576 with 2 Axes>"
      ]
     },
     "metadata": {
      "needs_background": "light"
     },
     "output_type": "display_data"
    }
   ],
   "source": [
    "my_acc = my_history.history['accuracy']\n",
    "my_val_acc = my_history.history['val_accuracy']\n",
    "\n",
    "my_loss = my_history.history['loss']\n",
    "my_val_loss = my_history.history['val_loss']\n",
    "\n",
    "\n",
    "\n",
    "plt.figure(figsize=(8, 8))\n",
    "plt.subplot(2, 1, 1)\n",
    "plt.plot(my_acc, label='Training Accuracy')\n",
    "plt.plot(my_val_acc, label='Validation Accuracy')\n",
    "plt.legend(loc='lower right')\n",
    "plt.ylabel('Accuracy')\n",
    "plt.ylim([min(plt.ylim()),1])\n",
    "plt.title('Training and Validation Accuracy')\n",
    "\n",
    "plt.subplot(2, 1, 2)\n",
    "plt.plot(my_loss, label='Training Loss')\n",
    "plt.plot(my_val_loss, label='Validation Loss')\n",
    "plt.legend(loc='upper right')\n",
    "plt.ylabel('Cross Entropy')\n",
    "plt.ylim([0,max(plt.ylim())])\n",
    "plt.title('Training and Validation Loss')\n",
    "plt.show()"
   ]
  }
 ],
 "metadata": {
  "hide_input": false,
  "kernelspec": {
   "display_name": "Python 3",
   "language": "python",
   "name": "python3"
  },
  "language_info": {
   "codemirror_mode": {
    "name": "ipython",
    "version": 3
   },
   "file_extension": ".py",
   "mimetype": "text/x-python",
   "name": "python",
   "nbconvert_exporter": "python",
   "pygments_lexer": "ipython3",
   "version": "3.7.6"
  },
  "toc": {
   "base_numbering": 1,
   "nav_menu": {},
   "number_sections": true,
   "sideBar": true,
   "skip_h1_title": false,
   "title_cell": "Table of Contents",
   "title_sidebar": "Contents",
   "toc_cell": false,
   "toc_position": {
    "height": "calc(100% - 180px)",
    "left": "10px",
    "top": "150px",
    "width": "181.179px"
   },
   "toc_section_display": true,
   "toc_window_display": true
  },
  "varInspector": {
   "cols": {
    "lenName": 16,
    "lenType": 16,
    "lenVar": 40
   },
   "kernels_config": {
    "python": {
     "delete_cmd_postfix": "",
     "delete_cmd_prefix": "del ",
     "library": "var_list.py",
     "varRefreshCmd": "print(var_dic_list())"
    },
    "r": {
     "delete_cmd_postfix": ") ",
     "delete_cmd_prefix": "rm(",
     "library": "var_list.r",
     "varRefreshCmd": "cat(var_dic_list()) "
    }
   },
   "types_to_exclude": [
    "module",
    "function",
    "builtin_function_or_method",
    "instance",
    "_Feature"
   ],
   "window_display": false
  }
 },
 "nbformat": 4,
 "nbformat_minor": 4
}
